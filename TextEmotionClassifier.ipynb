{
 "cells": [
  {
   "cell_type": "code",
   "execution_count": 1,
   "metadata": {},
   "outputs": [],
   "source": [
    "import os\n",
    "import nltk"
   ]
  },
  {
   "cell_type": "code",
   "execution_count": 2,
   "metadata": {},
   "outputs": [],
   "source": [
    "import pandas as pd"
   ]
  },
  {
   "cell_type": "code",
   "execution_count": 3,
   "metadata": {},
   "outputs": [],
   "source": [
    "from tqdm import tqdm"
   ]
  },
  {
   "cell_type": "code",
   "execution_count": 4,
   "metadata": {},
   "outputs": [],
   "source": [
    "from transformers import BertTokenizer\n",
    "from model import BertForMultiLabelClassification\n",
    "from multilabel_pipeline import MultiLabelPipeline\n",
    "from pprint import pprint"
   ]
  },
  {
   "cell_type": "code",
   "execution_count": 5,
   "metadata": {},
   "outputs": [
    {
     "name": "stderr",
     "output_type": "stream",
     "text": [
      "In /home/jd/anaconda3/envs/music/lib/python3.6/site-packages/matplotlib/mpl-data/stylelib/_classic_test.mplstyle: \n",
      "The text.latex.preview rcparam was deprecated in Matplotlib 3.3 and will be removed two minor releases later.\n",
      "In /home/jd/anaconda3/envs/music/lib/python3.6/site-packages/matplotlib/mpl-data/stylelib/_classic_test.mplstyle: \n",
      "The mathtext.fallback_to_cm rcparam was deprecated in Matplotlib 3.3 and will be removed two minor releases later.\n",
      "In /home/jd/anaconda3/envs/music/lib/python3.6/site-packages/matplotlib/mpl-data/stylelib/_classic_test.mplstyle: Support for setting the 'mathtext.fallback_to_cm' rcParam is deprecated since 3.3 and will be removed two minor releases later; use 'mathtext.fallback : 'cm' instead.\n",
      "In /home/jd/anaconda3/envs/music/lib/python3.6/site-packages/matplotlib/mpl-data/stylelib/_classic_test.mplstyle: \n",
      "The validate_bool_maybe_none function was deprecated in Matplotlib 3.3 and will be removed two minor releases later.\n",
      "In /home/jd/anaconda3/envs/music/lib/python3.6/site-packages/matplotlib/mpl-data/stylelib/_classic_test.mplstyle: \n",
      "The savefig.jpeg_quality rcparam was deprecated in Matplotlib 3.3 and will be removed two minor releases later.\n",
      "In /home/jd/anaconda3/envs/music/lib/python3.6/site-packages/matplotlib/mpl-data/stylelib/_classic_test.mplstyle: \n",
      "The keymap.all_axes rcparam was deprecated in Matplotlib 3.3 and will be removed two minor releases later.\n",
      "In /home/jd/anaconda3/envs/music/lib/python3.6/site-packages/matplotlib/mpl-data/stylelib/_classic_test.mplstyle: \n",
      "The animation.avconv_path rcparam was deprecated in Matplotlib 3.3 and will be removed two minor releases later.\n",
      "In /home/jd/anaconda3/envs/music/lib/python3.6/site-packages/matplotlib/mpl-data/stylelib/_classic_test.mplstyle: \n",
      "The animation.avconv_args rcparam was deprecated in Matplotlib 3.3 and will be removed two minor releases later.\n"
     ]
    }
   ],
   "source": [
    "import numpy as np\n",
    "import matplotlib.pyplot as plt"
   ]
  },
  {
   "cell_type": "code",
   "execution_count": 6,
   "metadata": {},
   "outputs": [],
   "source": [
    "from scipy.io import savemat"
   ]
  },
  {
   "cell_type": "code",
   "execution_count": 7,
   "metadata": {
    "scrolled": true
   },
   "outputs": [
    {
     "ename": "TypeError",
     "evalue": "Can't instantiate abstract class MultiLabelPipeline with abstract methods _forward, _sanitize_parameters, postprocess, preprocess",
     "output_type": "error",
     "traceback": [
      "\u001b[0;31m---------------------------------------------------------------------------\u001b[0m",
      "\u001b[0;31mTypeError\u001b[0m                                 Traceback (most recent call last)",
      "\u001b[0;32m<ipython-input-7-d4537c182915>\u001b[0m in \u001b[0;36m<module>\u001b[0;34m\u001b[0m\n\u001b[1;32m      5\u001b[0m     \u001b[0mmodel\u001b[0m\u001b[0;34m=\u001b[0m\u001b[0mmodel\u001b[0m\u001b[0;34m,\u001b[0m\u001b[0;34m\u001b[0m\u001b[0;34m\u001b[0m\u001b[0m\n\u001b[1;32m      6\u001b[0m     \u001b[0mtokenizer\u001b[0m\u001b[0;34m=\u001b[0m\u001b[0mtokenizer\u001b[0m\u001b[0;34m,\u001b[0m\u001b[0;34m\u001b[0m\u001b[0;34m\u001b[0m\u001b[0m\n\u001b[0;32m----> 7\u001b[0;31m     \u001b[0mthreshold\u001b[0m\u001b[0;34m=\u001b[0m\u001b[0;36m0.3\u001b[0m\u001b[0;34m\u001b[0m\u001b[0;34m\u001b[0m\u001b[0m\n\u001b[0m\u001b[1;32m      8\u001b[0m )\n",
      "\u001b[0;31mTypeError\u001b[0m: Can't instantiate abstract class MultiLabelPipeline with abstract methods _forward, _sanitize_parameters, postprocess, preprocess"
     ]
    }
   ],
   "source": [
    "tokenizer = BertTokenizer.from_pretrained(\"monologg/bert-base-cased-goemotions-ekman\")\n",
    "model = BertForMultiLabelClassification.from_pretrained(\"monologg/bert-base-cased-goemotions-ekman\")\n",
    "\n",
    "goemotions = MultiLabelPipeline(\n",
    "    model=model,\n",
    "    tokenizer=tokenizer,\n",
    "    threshold=0.3\n",
    ")"
   ]
  },
  {
   "cell_type": "code",
   "execution_count": 27,
   "metadata": {},
   "outputs": [],
   "source": [
    "tokenizer = BertTokenizer.from_pretrained(\"monologg/bert-base-cased-goemotions-group\")\n",
    "model = BertForMultiLabelClassification.from_pretrained(\"monologg/bert-base-cased-goemotions-group\")"
   ]
  },
  {
   "cell_type": "code",
   "execution_count": 32,
   "metadata": {},
   "outputs": [
    {
     "ename": "TypeError",
     "evalue": "Can't instantiate abstract class MultiLabelPipeline with abstract methods _forward, _sanitize_parameters, postprocess, preprocess",
     "output_type": "error",
     "traceback": [
      "\u001b[0;31m---------------------------------------------------------------------------\u001b[0m",
      "\u001b[0;31mTypeError\u001b[0m                                 Traceback (most recent call last)",
      "\u001b[0;32m<ipython-input-32-d16e1e8e94d2>\u001b[0m in \u001b[0;36m<module>\u001b[0;34m\u001b[0m\n\u001b[1;32m      1\u001b[0m goemotions = MultiLabelPipeline(\n\u001b[1;32m      2\u001b[0m \u001b[0;31m#     model=model,\u001b[0m\u001b[0;34m\u001b[0m\u001b[0;34m\u001b[0m\u001b[0;34m\u001b[0m\u001b[0m\n\u001b[0;32m----> 3\u001b[0;31m     \u001b[0mtokenizer\u001b[0m\u001b[0;34m=\u001b[0m\u001b[0mtokenizer\u001b[0m\u001b[0;34m,\u001b[0m\u001b[0;34m\u001b[0m\u001b[0;34m\u001b[0m\u001b[0m\n\u001b[0m\u001b[1;32m      4\u001b[0m \u001b[0;31m#     threshold=0.3\u001b[0m\u001b[0;34m\u001b[0m\u001b[0;34m\u001b[0m\u001b[0;34m\u001b[0m\u001b[0m\n\u001b[1;32m      5\u001b[0m )\n",
      "\u001b[0;31mTypeError\u001b[0m: Can't instantiate abstract class MultiLabelPipeline with abstract methods _forward, _sanitize_parameters, postprocess, preprocess"
     ]
    }
   ],
   "source": [
    "goemotions = MultiLabelPipeline(\n",
    "#     model=model,\n",
    "    tokenizer=tokenizer,\n",
    "#     threshold=0.3\n",
    ")"
   ]
  },
  {
   "cell_type": "code",
   "execution_count": null,
   "metadata": {},
   "outputs": [],
   "source": [
    "texts = [\n",
    "    \"Hey that's a thought! Maybe we need [NAME] to be the celebrity vaccine endorsement!\",\n",
    "    \"it’s happened before?! love my hometown of beautiful new ken 😂😂\",\n",
    "    \"I love you, brother.\",\n",
    "    \"Troll, bro. They know they're saying stupid shit. The motherfucker does nothing but stink up libertarian subs talking shit\",\n",
    "]"
   ]
  },
  {
   "cell_type": "code",
   "execution_count": null,
   "metadata": {},
   "outputs": [],
   "source": [
    "allfiles = os.listdir(\"../data/HP/chapters/\")"
   ]
  },
  {
   "cell_type": "markdown",
   "metadata": {},
   "source": [
    "# Bulk Process"
   ]
  },
  {
   "cell_type": "code",
   "execution_count": null,
   "metadata": {},
   "outputs": [],
   "source": [
    "import multiprocessing"
   ]
  },
  {
   "cell_type": "code",
   "execution_count": null,
   "metadata": {},
   "outputs": [],
   "source": [
    "def process(file_name):\n",
    "    chapNum = file_name.split('-')[0]\n",
    "    lines = open(f\"../data/HP/chapters/{file_name}\", \"r\").read().splitlines()\n",
    "    \n",
    "    joined_lines = \"!\".join(lines)\n",
    "    sent_text = nltk.sent_tokenize(joined_lines) # this gives us a list of sentences\n",
    "    sent_text = list(map(lambda x: x.strip(\"!\"), sent_text))\n",
    "    \n",
    "    sent_text = lines\n",
    "    \n",
    "    sentences = []\n",
    "    emotions = []\n",
    "\n",
    "    for i, line in tqdm(enumerate(sent_text)):\n",
    "        if len(line) == 0:\n",
    "            continue\n",
    "    #     sentence = '.'.join(sent_text[i:i+1])\n",
    "        sentence = sent_text[i]\n",
    "        sentences.append(sentence)\n",
    "\n",
    "        emotion = goemotions(sentence)\n",
    "    #     print(emotion)\n",
    "        emotions.append(emotion[0])\n",
    "    \n",
    "#     print(sentences[:5], len(sentences))\n",
    "    \n",
    "    data = {\n",
    "        'paragraph': sentences,\n",
    "        'ekman': emotions\n",
    "    }\n",
    "    \n",
    "    df = pd.DataFrame(data)\n",
    "    out = df.to_csv(f\"../data/HP/sheets/{chapNum}_emotion_ekman.csv\")\n",
    "    return out"
   ]
  },
  {
   "cell_type": "code",
   "execution_count": null,
   "metadata": {},
   "outputs": [],
   "source": [
    "lines = open(\"../data/HP/chapters/16-Through_the_Trapdoor.txt\", \"r\").read().splitlines()"
   ]
  },
  {
   "cell_type": "code",
   "execution_count": null,
   "metadata": {},
   "outputs": [],
   "source": [
    "files = allfiles[6:8]\n",
    "files"
   ]
  },
  {
   "cell_type": "code",
   "execution_count": null,
   "metadata": {},
   "outputs": [],
   "source": [
    "pool = multiprocessing.Pool(1)\n",
    "pool.map(process, files)"
   ]
  },
  {
   "cell_type": "markdown",
   "metadata": {},
   "source": [
    "# Individual"
   ]
  },
  {
   "cell_type": "code",
   "execution_count": null,
   "metadata": {},
   "outputs": [],
   "source": [
    "joined_lines = \"!\".join(lines)\n",
    "sent_text = nltk.sent_tokenize(joined_lines) # this gives us a list of sentences\n",
    "sent_text = list(map(lambda x: x.strip(\"!\"), sent_text))"
   ]
  },
  {
   "cell_type": "code",
   "execution_count": null,
   "metadata": {},
   "outputs": [],
   "source": [
    "sent_text = lines"
   ]
  },
  {
   "cell_type": "code",
   "execution_count": null,
   "metadata": {},
   "outputs": [],
   "source": [
    "sentences = []\n",
    "emotions = []\n",
    "\n",
    "for i, line in tqdm(enumerate(sent_text)):\n",
    "    if len(line) == 0:\n",
    "        continue\n",
    "#     sentence = '.'.join(sent_text[i:i+1])\n",
    "    sentence = sent_text[i]\n",
    "    sentences.append(sentence)\n",
    "    \n",
    "#     emotion = goemotions(sentence)\n",
    "#     print(emotion)\n",
    "#     emotions.append(emotion[0])"
   ]
  },
  {
   "cell_type": "code",
   "execution_count": 13,
   "metadata": {},
   "outputs": [],
   "source": [
    "data = {\n",
    "    'paragraph': sentences,\n",
    "#     'ekman': emotions\n",
    "}"
   ]
  },
  {
   "cell_type": "code",
   "execution_count": 14,
   "metadata": {},
   "outputs": [],
   "source": [
    "df = pd.DataFrame(data)"
   ]
  },
  {
   "cell_type": "code",
   "execution_count": 15,
   "metadata": {},
   "outputs": [
    {
     "data": {
      "text/html": [
       "<div>\n",
       "<style scoped>\n",
       "    .dataframe tbody tr th:only-of-type {\n",
       "        vertical-align: middle;\n",
       "    }\n",
       "\n",
       "    .dataframe tbody tr th {\n",
       "        vertical-align: top;\n",
       "    }\n",
       "\n",
       "    .dataframe thead th {\n",
       "        text-align: right;\n",
       "    }\n",
       "</style>\n",
       "<table border=\"1\" class=\"dataframe\">\n",
       "  <thead>\n",
       "    <tr style=\"text-align: right;\">\n",
       "      <th></th>\n",
       "      <th>paragraph</th>\n",
       "    </tr>\n",
       "  </thead>\n",
       "  <tbody>\n",
       "    <tr>\n",
       "      <th>0</th>\n",
       "      <td>Through the Trapdoor</td>\n",
       "    </tr>\n",
       "    <tr>\n",
       "      <th>1</th>\n",
       "      <td>In years to come, Harry would never quite reme...</td>\n",
       "    </tr>\n",
       "    <tr>\n",
       "      <th>2</th>\n",
       "      <td>It was sweltering hot, especially in the large...</td>\n",
       "    </tr>\n",
       "    <tr>\n",
       "      <th>3</th>\n",
       "      <td>They had practical exams as well. Professor Fl...</td>\n",
       "    </tr>\n",
       "    <tr>\n",
       "      <th>4</th>\n",
       "      <td>Harry did the best he could, trying to ignore ...</td>\n",
       "    </tr>\n",
       "    <tr>\n",
       "      <th>...</th>\n",
       "      <td>...</td>\n",
       "    </tr>\n",
       "    <tr>\n",
       "      <th>307</th>\n",
       "      <td>Hermione turned and walked straight through th...</td>\n",
       "    </tr>\n",
       "    <tr>\n",
       "      <th>308</th>\n",
       "      <td>Harry took a deep breath and picked up the sma...</td>\n",
       "    </tr>\n",
       "    <tr>\n",
       "      <th>309</th>\n",
       "      <td>\"Here I come,\" he said, and he drained the lit...</td>\n",
       "    </tr>\n",
       "    <tr>\n",
       "      <th>310</th>\n",
       "      <td>It was indeed as though ice was flooding his b...</td>\n",
       "    </tr>\n",
       "    <tr>\n",
       "      <th>311</th>\n",
       "      <td>There was already someone there -- but it wasn...</td>\n",
       "    </tr>\n",
       "  </tbody>\n",
       "</table>\n",
       "<p>312 rows × 1 columns</p>\n",
       "</div>"
      ],
      "text/plain": [
       "                                             paragraph\n",
       "0                                Through the Trapdoor \n",
       "1    In years to come, Harry would never quite reme...\n",
       "2    It was sweltering hot, especially in the large...\n",
       "3    They had practical exams as well. Professor Fl...\n",
       "4    Harry did the best he could, trying to ignore ...\n",
       "..                                                 ...\n",
       "307  Hermione turned and walked straight through th...\n",
       "308  Harry took a deep breath and picked up the sma...\n",
       "309  \"Here I come,\" he said, and he drained the lit...\n",
       "310  It was indeed as though ice was flooding his b...\n",
       "311  There was already someone there -- but it wasn...\n",
       "\n",
       "[312 rows x 1 columns]"
      ]
     },
     "execution_count": 15,
     "metadata": {},
     "output_type": "execute_result"
    }
   ],
   "source": [
    "df"
   ]
  },
  {
   "cell_type": "code",
   "execution_count": 96,
   "metadata": {},
   "outputs": [],
   "source": [
    "df.to_csv(\"16_emotion_ekman.csv\")"
   ]
  },
  {
   "cell_type": "markdown",
   "metadata": {},
   "source": [
    "# Check Percentage"
   ]
  },
  {
   "cell_type": "code",
   "execution_count": 13,
   "metadata": {},
   "outputs": [],
   "source": [
    "total = len(emotions)"
   ]
  },
  {
   "cell_type": "code",
   "execution_count": 15,
   "metadata": {},
   "outputs": [],
   "source": [
    "neutral = 0\n",
    "for emotion in emotions:\n",
    "    if len(emotion['labels']) == 1 and emotion['labels'][0] == 'neutral':\n",
    "        neutral += 1"
   ]
  },
  {
   "cell_type": "code",
   "execution_count": 16,
   "metadata": {},
   "outputs": [
    {
     "data": {
      "text/plain": [
       "214"
      ]
     },
     "execution_count": 16,
     "metadata": {},
     "output_type": "execute_result"
    }
   ],
   "source": [
    "neutral"
   ]
  },
  {
   "cell_type": "code",
   "execution_count": 17,
   "metadata": {},
   "outputs": [
    {
     "data": {
      "text/plain": [
       "68.58974358974359"
      ]
     },
     "execution_count": 17,
     "metadata": {},
     "output_type": "execute_result"
    }
   ],
   "source": [
    "neutral/total * 100"
   ]
  },
  {
   "cell_type": "markdown",
   "metadata": {},
   "source": [
    "# Trajectory"
   ]
  },
  {
   "cell_type": "code",
   "execution_count": 17,
   "metadata": {},
   "outputs": [],
   "source": [
    "df = pd.read_csv(\"../GoEmotions/16_emotion_all.csv\")"
   ]
  },
  {
   "cell_type": "code",
   "execution_count": 21,
   "metadata": {},
   "outputs": [],
   "source": [
    "emotions = []\n",
    "for i, row in df.iterrows():\n",
    "\n",
    "    if i == 0:\n",
    "        continue\n",
    "\n",
    "    text = row['Paragraph Text']\n",
    "    # print(row['Binary Emotion Class/Score'])\n",
    "    binary = row['Binary Emotion Class/Score']\n",
    "    ekman = row['Ekman Emotion Class']\n",
    "    \n",
    "    for j in range(len(text.split(' '))):\n",
    "        if \"positive\" in binary:\n",
    "            emotions.append(1.0)\n",
    "        elif \"negative\" in binary:\n",
    "            emotions.append(-1.0)\n",
    "        else:\n",
    "            emotions.append(0.0)"
   ]
  },
  {
   "cell_type": "code",
   "execution_count": 23,
   "metadata": {},
   "outputs": [
    {
     "data": {
      "text/plain": [
       "[<matplotlib.lines.Line2D at 0x7f22bf7cab00>]"
      ]
     },
     "execution_count": 23,
     "metadata": {},
     "output_type": "execute_result"
    },
    {
     "data": {
      "image/png": "[encoded data removed]",
      "text/plain": [
       "<Figure size 1440x216 with 1 Axes>"
      ]
     },
     "metadata": {
      "needs_background": "light"
     },
     "output_type": "display_data"
    }
   ],
   "source": [
    "plt.rcParams[\"figure.figsize\"] = (20,3)\n",
    "plt.plot(emotions, c='#000000')"
   ]
  },
  {
   "cell_type": "code",
   "execution_count": 24,
   "metadata": {},
   "outputs": [],
   "source": [
    "mdic = {\"book\": emotions, \"label\": \"emotions\"}\n",
    "savemat(\"bookemotions.mat\", mdic)"
   ]
  },
  {
   "cell_type": "code",
   "execution_count": 25,
   "metadata": {},
   "outputs": [],
   "source": [
    "emotions = np.array(emotions)"
   ]
  },
  {
   "cell_type": "code",
   "execution_count": 9,
   "metadata": {},
   "outputs": [
    {
     "data": {
      "text/plain": [
       "[<matplotlib.lines.Line2D at 0x7f22bf9f4ba8>]"
      ]
     },
     "execution_count": 9,
     "metadata": {},
     "output_type": "execute_result"
    },
    {
     "data": {
      "image/png": "[encoded data removed]",
      "text/plain": [
       "<Figure size 1440x216 with 1 Axes>"
      ]
     },
     "metadata": {
      "needs_background": "light"
     },
     "output_type": "display_data"
    }
   ],
   "source": [
    "alpha = 0.5\n",
    "emotionsnew = alpha * emotions[1:] + (1 - alpha) * emotions[:-1]\n",
    "plt.plot(emotionsnew, c='#000000')"
   ]
  },
  {
   "cell_type": "code",
   "execution_count": 10,
   "metadata": {},
   "outputs": [],
   "source": [
    "emotionsnew[np.logical_and(emotionsnew < 1.0, emotionsnew > 0.0)] = 0.0\n",
    "emotionsnew[np.logical_and(emotionsnew > -1.0, emotionsnew < 0.0)] = 0.0"
   ]
  },
  {
   "cell_type": "code",
   "execution_count": 11,
   "metadata": {},
   "outputs": [
    {
     "data": {
      "text/plain": [
       "[<matplotlib.lines.Line2D at 0x7f22bf9647b8>]"
      ]
     },
     "execution_count": 11,
     "metadata": {},
     "output_type": "execute_result"
    },
    {
     "data": {
      "image/png": "[encoded data removed]",
      "text/plain": [
       "<Figure size 1440x216 with 1 Axes>"
      ]
     },
     "metadata": {
      "needs_background": "light"
     },
     "output_type": "display_data"
    }
   ],
   "source": [
    "plt.plot(emotionsnew, c='#000000')"
   ]
  },
  {
   "attachments": {
    "image.png": {
     "image/png": "[encoded data removed]"
    }
   },
   "cell_type": "markdown",
   "metadata": {},
   "source": [
    "![image.png](attachment:image.png)"
   ]
  },
  {
   "cell_type": "code",
   "execution_count": 26,
   "metadata": {},
   "outputs": [],
   "source": [
    "import scipy.io as sio"
   ]
  },
  {
   "cell_type": "code",
   "execution_count": 28,
   "metadata": {},
   "outputs": [],
   "source": [
    "data = sio.loadmat(f\"../MusicEmotion/changes.mat\")"
   ]
  },
  {
   "cell_type": "code",
   "execution_count": 35,
   "metadata": {},
   "outputs": [],
   "source": [
    "changes = data['ipt'][0]"
   ]
  },
  {
   "cell_type": "code",
   "execution_count": 39,
   "metadata": {},
   "outputs": [
    {
     "data": {
      "text/plain": [
       "array([   0,  138,  290,  357,  554, 1320, 1392, 1816, 2272, 2416, 2901,\n",
       "       2976, 3143, 3337, 3427, 4156, 4215, 4397, 4462, 4539, 4958, 5099,\n",
       "       5946, 6002, 6305, 6368])"
      ]
     },
     "execution_count": 39,
     "metadata": {},
     "output_type": "execute_result"
    }
   ],
   "source": [
    "changes = np.hstack([0, changes])\n",
    "changes"
   ]
  },
  {
   "cell_type": "code",
   "execution_count": 43,
   "metadata": {},
   "outputs": [],
   "source": [
    "emotionBlocks = []\n",
    "for i in range(len(changes) - 1):\n",
    "    valenceScore = np.mean(emotions[changes[i]:changes[i+1]])\n",
    "    elem = (changes[i], changes[i+1], valenceScore)\n",
    "    emotionBlocks.append(elem)"
   ]
  },
  {
   "cell_type": "code",
   "execution_count": 44,
   "metadata": {},
   "outputs": [
    {
     "data": {
      "text/plain": [
       "[(0, 138, -0.35507246376811596),\n",
       " (138, 290, -0.6578947368421053),\n",
       " (290, 357, 0.6119402985074627),\n",
       " (357, 554, 0.4213197969543147),\n",
       " (554, 1320, 0.03524804177545692),\n",
       " (1320, 1392, 0.20833333333333334),\n",
       " (1392, 1816, 0.04481132075471698),\n",
       " (1816, 2272, -0.4583333333333333),\n",
       " (2272, 2416, -0.5347222222222222),\n",
       " (2416, 2901, -0.08041237113402062),\n",
       " (2901, 2976, -0.37333333333333335),\n",
       " (2976, 3143, -0.2934131736526946),\n",
       " (3143, 3337, -0.1134020618556701),\n",
       " (3337, 3427, -0.15555555555555556),\n",
       " (3427, 4156, -0.0205761316872428),\n",
       " (4156, 4215, 0.4745762711864407),\n",
       " (4215, 4397, 0.08791208791208792),\n",
       " (4397, 4462, -0.6307692307692307),\n",
       " (4462, 4539, -0.23376623376623376),\n",
       " (4539, 4958, -0.050119331742243436),\n",
       " (4958, 5099, -0.3333333333333333),\n",
       " (5099, 5946, -0.010625737898465172),\n",
       " (5946, 6002, 0.30357142857142855),\n",
       " (6002, 6305, 0.1848184818481848),\n",
       " (6305, 6368, 0.14285714285714285)]"
      ]
     },
     "execution_count": 44,
     "metadata": {},
     "output_type": "execute_result"
    }
   ],
   "source": [
    "emotionBlocks"
   ]
  },
  {
   "cell_type": "code",
   "execution_count": 60,
   "metadata": {},
   "outputs": [
    {
     "name": "stdout",
     "output_type": "stream",
     "text": [
      "55\n",
      "89\n",
      "165\n",
      "238\n",
      "316\n",
      "379\n",
      "421\n",
      "508\n",
      "514\n",
      "540\n",
      "547\n",
      "562\n",
      "572\n",
      "629\n",
      "681\n",
      "743\n",
      "750\n",
      "757\n",
      "777\n",
      "785\n",
      "852\n",
      "871\n",
      "897\n",
      "910\n",
      "920\n",
      "951\n",
      "962\n",
      "975\n",
      "1018\n",
      "1042\n",
      "1159\n",
      "1178\n",
      "1224\n",
      "1229\n",
      "1247\n",
      "1278\n",
      "1335\n",
      "1372\n",
      "1388\n",
      "1395\n",
      "1406\n",
      "1421\n",
      "1441\n",
      "1447\n",
      "1466\n",
      "1493\n",
      "1500\n",
      "1518\n",
      "1523\n",
      "1538\n",
      "1555\n",
      "1580\n",
      "1588\n",
      "1614\n",
      "1625\n",
      "1658\n",
      "1662\n",
      "1693\n",
      "1697\n",
      "1752\n",
      "1758\n",
      "1766\n",
      "1771\n",
      "1777\n",
      "1782\n",
      "1799\n",
      "1814\n",
      "1846\n",
      "1859\n",
      "1881\n",
      "1891\n",
      "1902\n",
      "1942\n",
      "1945\n",
      "1982\n",
      "1998\n",
      "2012\n",
      "2049\n",
      "2092\n",
      "2125\n",
      "2167\n",
      "2176\n",
      "2191\n",
      "2209\n",
      "2214\n",
      "2229\n",
      "2374\n",
      "2379\n",
      "2389\n",
      "2404\n",
      "2415\n",
      "2422\n",
      "2435\n",
      "2466\n",
      "2478\n",
      "2511\n",
      "2593\n",
      "2604\n",
      "2659\n",
      "2668\n",
      "2699\n",
      "2734\n",
      "2747\n",
      "2754\n",
      "2761\n",
      "2777\n",
      "2804\n",
      "2822\n",
      "2831\n",
      "2842\n",
      "2865\n",
      "2880\n",
      "2912\n",
      "2929\n",
      "2946\n",
      "2961\n",
      "2966\n",
      "2972\n",
      "2976\n",
      "2986\n",
      "2991\n",
      "3000\n",
      "3031\n",
      "3057\n",
      "3065\n",
      "3078\n",
      "3089\n",
      "3107\n",
      "3162\n",
      "3198\n",
      "3227\n",
      "3262\n",
      "3275\n",
      "3286\n",
      "3292\n",
      "3310\n",
      "3333\n",
      "3368\n",
      "3382\n",
      "3408\n",
      "3413\n",
      "3418\n",
      "3437\n",
      "3476\n",
      "3499\n",
      "3505\n",
      "3510\n",
      "3516\n",
      "3544\n",
      "3552\n",
      "3565\n",
      "3580\n",
      "3634\n",
      "3688\n",
      "3692\n",
      "3720\n",
      "3728\n",
      "3745\n",
      "3764\n",
      "3794\n",
      "3841\n",
      "3882\n",
      "3886\n",
      "3894\n",
      "3913\n",
      "3952\n",
      "3979\n",
      "3990\n",
      "3998\n",
      "4016\n",
      "4040\n",
      "4050\n",
      "4059\n",
      "4067\n",
      "4116\n",
      "4164\n",
      "4179\n",
      "4219\n",
      "4237\n",
      "4255\n",
      "4262\n",
      "4277\n",
      "4290\n",
      "4360\n",
      "4382\n",
      "4401\n",
      "4417\n",
      "4480\n",
      "4487\n",
      "4502\n",
      "4509\n",
      "4518\n",
      "4528\n",
      "4576\n",
      "4590\n",
      "4616\n",
      "4662\n",
      "4687\n",
      "4692\n",
      "4704\n",
      "4713\n",
      "4761\n",
      "4768\n",
      "4776\n",
      "4790\n",
      "4831\n",
      "4889\n",
      "4919\n",
      "4940\n",
      "4986\n",
      "5033\n",
      "5082\n",
      "5102\n",
      "5131\n",
      "5185\n",
      "5193\n",
      "5209\n",
      "5219\n",
      "5224\n",
      "5236\n",
      "5278\n",
      "5301\n",
      "5322\n",
      "5350\n",
      "5363\n",
      "5382\n",
      "5386\n",
      "5395\n",
      "5436\n",
      "5451\n",
      "5460\n",
      "5483\n",
      "5493\n",
      "5525\n",
      "5545\n",
      "5605\n",
      "5619\n",
      "5629\n",
      "5643\n",
      "5649\n",
      "5678\n",
      "5681\n",
      "5690\n",
      "5693\n",
      "5705\n",
      "5710\n",
      "5730\n",
      "5781\n",
      "5790\n",
      "5837\n",
      "5842\n",
      "5858\n",
      "5888\n",
      "5894\n",
      "5899\n",
      "5902\n",
      "5907\n",
      "5956\n",
      "5983\n",
      "6024\n",
      "6034\n",
      "6075\n",
      "6096\n",
      "6105\n",
      "6117\n",
      "6127\n",
      "6135\n",
      "6144\n",
      "6154\n",
      "6163\n",
      "6176\n",
      "6185\n",
      "6196\n",
      "6206\n",
      "6217\n",
      "6227\n",
      "6237\n",
      "6248\n",
      "6260\n",
      "6283\n",
      "6314\n",
      "6321\n",
      "6369\n",
      "6374\n",
      "6404\n",
      "6423\n",
      "6430\n",
      "6445\n",
      "6451\n",
      "6462\n",
      "6476\n",
      "6537\n",
      "6546\n",
      "6566\n",
      "6582\n",
      "6584\n",
      "6593\n",
      "6610\n",
      "6633\n",
      "6647\n",
      "6665\n",
      "6672\n",
      "6679\n",
      "6686\n",
      "6692\n",
      "6694\n",
      "6704\n",
      "6723\n",
      "6738\n",
      "6794\n",
      "6809\n"
     ]
    }
   ],
   "source": [
    "count = 0\n",
    "paragraphEmotionPlay = []\n",
    "for j, row in df.iterrows():\n",
    "    if j == 0:\n",
    "        continue\n",
    "\n",
    "    text = row['Paragraph Text']\n",
    "    # print(row['Binary Emotion Class/Score'])\n",
    "    words = text.split(' ')\n",
    "    print(len(words) + count)\n",
    "    \n",
    "    f = 0\n",
    "    \n",
    "    for i in range(len(emotionBlocks)):\n",
    "        start, end, score = emotionBlocks[i]\n",
    "        if start >= count:\n",
    "            paragraphEmotionPlay.append(score)\n",
    "            f = 1\n",
    "            break\n",
    "    \n",
    "    if f == 0:\n",
    "        paragraphEmotionPlay.append(0)\n",
    "        \n",
    "    count += len(words)"
   ]
  },
  {
   "cell_type": "code",
   "execution_count": 61,
   "metadata": {},
   "outputs": [
    {
     "data": {
      "text/plain": [
       "311"
      ]
     },
     "execution_count": 61,
     "metadata": {},
     "output_type": "execute_result"
    }
   ],
   "source": [
    "len(paragraphEmotionPlay)"
   ]
  },
  {
   "cell_type": "code",
   "execution_count": 62,
   "metadata": {},
   "outputs": [
    {
     "data": {
      "text/plain": [
       "[-0.35507246376811596,\n",
       " -0.6578947368421053,\n",
       " -0.6578947368421053,\n",
       " 0.6119402985074627,\n",
       " 0.6119402985074627,\n",
       " 0.4213197969543147,\n",
       " 0.03524804177545692,\n",
       " 0.03524804177545692,\n",
       " 0.03524804177545692,\n",
       " 0.03524804177545692,\n",
       " 0.03524804177545692,\n",
       " 0.03524804177545692,\n",
       " 0.20833333333333334,\n",
       " 0.20833333333333334,\n",
       " 0.20833333333333334,\n",
       " 0.20833333333333334,\n",
       " 0.20833333333333334,\n",
       " 0.20833333333333334,\n",
       " 0.20833333333333334,\n",
       " 0.20833333333333334,\n",
       " 0.20833333333333334,\n",
       " 0.20833333333333334,\n",
       " 0.20833333333333334,\n",
       " 0.20833333333333334,\n",
       " 0.20833333333333334,\n",
       " 0.20833333333333334,\n",
       " 0.20833333333333334,\n",
       " 0.20833333333333334,\n",
       " 0.20833333333333334,\n",
       " 0.20833333333333334,\n",
       " 0.20833333333333334,\n",
       " 0.20833333333333334,\n",
       " 0.20833333333333334,\n",
       " 0.20833333333333334,\n",
       " 0.20833333333333334,\n",
       " 0.20833333333333334,\n",
       " 0.20833333333333334,\n",
       " 0.04481132075471698,\n",
       " 0.04481132075471698,\n",
       " 0.04481132075471698,\n",
       " -0.4583333333333333,\n",
       " -0.4583333333333333,\n",
       " -0.4583333333333333,\n",
       " -0.4583333333333333,\n",
       " -0.4583333333333333,\n",
       " -0.4583333333333333,\n",
       " -0.4583333333333333,\n",
       " -0.4583333333333333,\n",
       " -0.4583333333333333,\n",
       " -0.4583333333333333,\n",
       " -0.4583333333333333,\n",
       " -0.4583333333333333,\n",
       " -0.4583333333333333,\n",
       " -0.4583333333333333,\n",
       " -0.4583333333333333,\n",
       " -0.4583333333333333,\n",
       " -0.4583333333333333,\n",
       " -0.4583333333333333,\n",
       " -0.4583333333333333,\n",
       " -0.4583333333333333,\n",
       " -0.4583333333333333,\n",
       " -0.4583333333333333,\n",
       " -0.4583333333333333,\n",
       " -0.4583333333333333,\n",
       " -0.4583333333333333,\n",
       " -0.4583333333333333,\n",
       " -0.4583333333333333,\n",
       " -0.4583333333333333,\n",
       " -0.5347222222222222,\n",
       " -0.5347222222222222,\n",
       " -0.5347222222222222,\n",
       " -0.5347222222222222,\n",
       " -0.5347222222222222,\n",
       " -0.5347222222222222,\n",
       " -0.5347222222222222,\n",
       " -0.5347222222222222,\n",
       " -0.5347222222222222,\n",
       " -0.5347222222222222,\n",
       " -0.5347222222222222,\n",
       " -0.5347222222222222,\n",
       " -0.5347222222222222,\n",
       " -0.5347222222222222,\n",
       " -0.5347222222222222,\n",
       " -0.5347222222222222,\n",
       " -0.5347222222222222,\n",
       " -0.5347222222222222,\n",
       " -0.5347222222222222,\n",
       " -0.08041237113402062,\n",
       " -0.08041237113402062,\n",
       " -0.08041237113402062,\n",
       " -0.08041237113402062,\n",
       " -0.08041237113402062,\n",
       " -0.37333333333333335,\n",
       " -0.37333333333333335,\n",
       " -0.37333333333333335,\n",
       " -0.37333333333333335,\n",
       " -0.37333333333333335,\n",
       " -0.37333333333333335,\n",
       " -0.37333333333333335,\n",
       " -0.37333333333333335,\n",
       " -0.37333333333333335,\n",
       " -0.37333333333333335,\n",
       " -0.37333333333333335,\n",
       " -0.37333333333333335,\n",
       " -0.37333333333333335,\n",
       " -0.37333333333333335,\n",
       " -0.37333333333333335,\n",
       " -0.37333333333333335,\n",
       " -0.37333333333333335,\n",
       " -0.37333333333333335,\n",
       " -0.37333333333333335,\n",
       " -0.37333333333333335,\n",
       " -0.37333333333333335,\n",
       " -0.2934131736526946,\n",
       " -0.2934131736526946,\n",
       " -0.2934131736526946,\n",
       " -0.2934131736526946,\n",
       " -0.2934131736526946,\n",
       " -0.2934131736526946,\n",
       " -0.2934131736526946,\n",
       " -0.1134020618556701,\n",
       " -0.1134020618556701,\n",
       " -0.1134020618556701,\n",
       " -0.1134020618556701,\n",
       " -0.1134020618556701,\n",
       " -0.1134020618556701,\n",
       " -0.1134020618556701,\n",
       " -0.1134020618556701,\n",
       " -0.1134020618556701,\n",
       " -0.15555555555555556,\n",
       " -0.15555555555555556,\n",
       " -0.15555555555555556,\n",
       " -0.15555555555555556,\n",
       " -0.15555555555555556,\n",
       " -0.15555555555555556,\n",
       " -0.15555555555555556,\n",
       " -0.15555555555555556,\n",
       " -0.15555555555555556,\n",
       " -0.0205761316872428,\n",
       " -0.0205761316872428,\n",
       " -0.0205761316872428,\n",
       " -0.0205761316872428,\n",
       " -0.0205761316872428,\n",
       " 0.4745762711864407,\n",
       " 0.4745762711864407,\n",
       " 0.4745762711864407,\n",
       " 0.4745762711864407,\n",
       " 0.4745762711864407,\n",
       " 0.4745762711864407,\n",
       " 0.4745762711864407,\n",
       " 0.4745762711864407,\n",
       " 0.4745762711864407,\n",
       " 0.4745762711864407,\n",
       " 0.4745762711864407,\n",
       " 0.4745762711864407,\n",
       " 0.4745762711864407,\n",
       " 0.4745762711864407,\n",
       " 0.4745762711864407,\n",
       " 0.4745762711864407,\n",
       " 0.4745762711864407,\n",
       " 0.4745762711864407,\n",
       " 0.4745762711864407,\n",
       " 0.4745762711864407,\n",
       " 0.4745762711864407,\n",
       " 0.4745762711864407,\n",
       " 0.4745762711864407,\n",
       " 0.4745762711864407,\n",
       " 0.4745762711864407,\n",
       " 0.4745762711864407,\n",
       " 0.4745762711864407,\n",
       " 0.4745762711864407,\n",
       " 0.4745762711864407,\n",
       " 0.4745762711864407,\n",
       " 0.4745762711864407,\n",
       " 0.4745762711864407,\n",
       " 0.4745762711864407,\n",
       " 0.08791208791208792,\n",
       " 0.08791208791208792,\n",
       " -0.6307692307692307,\n",
       " -0.6307692307692307,\n",
       " -0.6307692307692307,\n",
       " -0.6307692307692307,\n",
       " -0.6307692307692307,\n",
       " -0.6307692307692307,\n",
       " -0.6307692307692307,\n",
       " -0.6307692307692307,\n",
       " -0.23376623376623376,\n",
       " -0.23376623376623376,\n",
       " -0.050119331742243436,\n",
       " -0.050119331742243436,\n",
       " -0.050119331742243436,\n",
       " -0.050119331742243436,\n",
       " -0.050119331742243436,\n",
       " -0.050119331742243436,\n",
       " -0.3333333333333333,\n",
       " -0.3333333333333333,\n",
       " -0.3333333333333333,\n",
       " -0.3333333333333333,\n",
       " -0.3333333333333333,\n",
       " -0.3333333333333333,\n",
       " -0.3333333333333333,\n",
       " -0.3333333333333333,\n",
       " -0.3333333333333333,\n",
       " -0.3333333333333333,\n",
       " -0.3333333333333333,\n",
       " -0.3333333333333333,\n",
       " -0.3333333333333333,\n",
       " -0.3333333333333333,\n",
       " -0.3333333333333333,\n",
       " -0.3333333333333333,\n",
       " -0.010625737898465172,\n",
       " -0.010625737898465172,\n",
       " -0.010625737898465172,\n",
       " 0.30357142857142855,\n",
       " 0.30357142857142855,\n",
       " 0.30357142857142855,\n",
       " 0.30357142857142855,\n",
       " 0.30357142857142855,\n",
       " 0.30357142857142855,\n",
       " 0.30357142857142855,\n",
       " 0.30357142857142855,\n",
       " 0.30357142857142855,\n",
       " 0.30357142857142855,\n",
       " 0.30357142857142855,\n",
       " 0.30357142857142855,\n",
       " 0.30357142857142855,\n",
       " 0.30357142857142855,\n",
       " 0.30357142857142855,\n",
       " 0.30357142857142855,\n",
       " 0.30357142857142855,\n",
       " 0.30357142857142855,\n",
       " 0.30357142857142855,\n",
       " 0.30357142857142855,\n",
       " 0.30357142857142855,\n",
       " 0.30357142857142855,\n",
       " 0.30357142857142855,\n",
       " 0.30357142857142855,\n",
       " 0.30357142857142855,\n",
       " 0.30357142857142855,\n",
       " 0.30357142857142855,\n",
       " 0.30357142857142855,\n",
       " 0.30357142857142855,\n",
       " 0.30357142857142855,\n",
       " 0.30357142857142855,\n",
       " 0.30357142857142855,\n",
       " 0.30357142857142855,\n",
       " 0.30357142857142855,\n",
       " 0.30357142857142855,\n",
       " 0.30357142857142855,\n",
       " 0.30357142857142855,\n",
       " 0.30357142857142855,\n",
       " 0.30357142857142855,\n",
       " 0.30357142857142855,\n",
       " 0.30357142857142855,\n",
       " 0.30357142857142855,\n",
       " 0.30357142857142855,\n",
       " 0.30357142857142855,\n",
       " 0.30357142857142855,\n",
       " 0.1848184818481848,\n",
       " 0.1848184818481848,\n",
       " 0.14285714285714285,\n",
       " 0.14285714285714285,\n",
       " 0.14285714285714285,\n",
       " 0.14285714285714285,\n",
       " 0.14285714285714285,\n",
       " 0.14285714285714285,\n",
       " 0.14285714285714285,\n",
       " 0.14285714285714285,\n",
       " 0.14285714285714285,\n",
       " 0.14285714285714285,\n",
       " 0.14285714285714285,\n",
       " 0.14285714285714285,\n",
       " 0.14285714285714285,\n",
       " 0.14285714285714285,\n",
       " 0.14285714285714285,\n",
       " 0.14285714285714285,\n",
       " 0.14285714285714285,\n",
       " 0.14285714285714285,\n",
       " 0.14285714285714285,\n",
       " 0.14285714285714285,\n",
       " 0.14285714285714285,\n",
       " 0,\n",
       " 0,\n",
       " 0,\n",
       " 0,\n",
       " 0,\n",
       " 0,\n",
       " 0,\n",
       " 0,\n",
       " 0,\n",
       " 0,\n",
       " 0,\n",
       " 0,\n",
       " 0,\n",
       " 0,\n",
       " 0,\n",
       " 0,\n",
       " 0,\n",
       " 0,\n",
       " 0,\n",
       " 0,\n",
       " 0,\n",
       " 0,\n",
       " 0,\n",
       " 0,\n",
       " 0,\n",
       " 0,\n",
       " 0,\n",
       " 0,\n",
       " 0,\n",
       " 0]"
      ]
     },
     "execution_count": 62,
     "metadata": {},
     "output_type": "execute_result"
    }
   ],
   "source": [
    "paragraphEmotionPlay"
   ]
  },
  {
   "cell_type": "code",
   "execution_count": null,
   "metadata": {},
   "outputs": [],
   "source": []
  }
 ],
 "metadata": {
  "kernelspec": {
   "display_name": "Python 3",
   "language": "python",
   "name": "python3"
  },
  "language_info": {
   "codemirror_mode": {
    "name": "ipython",
    "version": 3
   },
   "file_extension": ".py",
   "mimetype": "text/x-python",
   "name": "python",
   "nbconvert_exporter": "python",
   "pygments_lexer": "ipython3",
   "version": "3.6.13"
  }
 },
 "nbformat": 4,
 "nbformat_minor": 5
}
